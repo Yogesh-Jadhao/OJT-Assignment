{
  "nbformat": 4,
  "nbformat_minor": 0,
  "metadata": {
    "colab": {
      "provenance": []
    },
    "kernelspec": {
      "name": "python3",
      "display_name": "Python 3"
    },
    "language_info": {
      "name": "python"
    }
  },
  "cells": [
    {
      "cell_type": "markdown",
      "source": [
        " **Q.2**"
      ],
      "metadata": {
        "id": "LkiV_DOIyuEH"
      }
    },
    {
      "cell_type": "markdown",
      "source": [
        "*Row Echelon Form*"
      ],
      "metadata": {
        "id": "4_Zm9I0myjbx"
      }
    },
    {
      "cell_type": "code",
      "execution_count": 52,
      "metadata": {
        "colab": {
          "base_uri": "https://localhost:8080/"
        },
        "id": "9sUliXeBMlOO",
        "outputId": "2391e817-37ea-48a4-8e74-a6f5f34ea5ec"
      },
      "outputs": [
        {
          "output_type": "stream",
          "name": "stdout",
          "text": [
            "[[8 6 7 9 6]\n",
            " [0 8 9 7 6]\n",
            " [0 7 4 0 6]\n",
            " [4 5 5 8 5]\n",
            " [9 8 7 3 4]]\n"
          ]
        }
      ],
      "source": [
        "\n",
        "import numpy as np\n",
        "import sympy as sp\n",
        "np.random.seed(14)\n",
        "A = np.random.randint(0,10,(5,5))\n",
        "print(A)"
      ]
    },
    {
      "cell_type": "code",
      "source": [
        "A=sp.Matrix(A)\n",
        "A"
      ],
      "metadata": {
        "colab": {
          "base_uri": "https://localhost:8080/",
          "height": 119
        },
        "id": "YFD6XpJ9NO7E",
        "outputId": "e2ba3f2b-f795-44f0-a5c6-fba1c7db6658"
      },
      "execution_count": 53,
      "outputs": [
        {
          "output_type": "execute_result",
          "data": {
            "text/plain": [
              "Matrix([\n",
              "[8, 6, 7, 9, 6],\n",
              "[0, 8, 9, 7, 6],\n",
              "[0, 7, 4, 0, 6],\n",
              "[4, 5, 5, 8, 5],\n",
              "[9, 8, 7, 3, 4]])"
            ],
            "text/latex": "$\\displaystyle \\left[\\begin{matrix}8 & 6 & 7 & 9 & 6\\\\0 & 8 & 9 & 7 & 6\\\\0 & 7 & 4 & 0 & 6\\\\4 & 5 & 5 & 8 & 5\\\\9 & 8 & 7 & 3 & 4\\end{matrix}\\right]$"
          },
          "metadata": {},
          "execution_count": 53
        }
      ]
    },
    {
      "cell_type": "code",
      "source": [
        "A[3:4,0:5]=8*A[3:4,0:5]-4*A[0:1,0:5]\n",
        "A"
      ],
      "metadata": {
        "colab": {
          "base_uri": "https://localhost:8080/",
          "height": 119
        },
        "id": "NfKvAMNqQbBY",
        "outputId": "22458583-3349-40c6-c72b-4597716e36d5"
      },
      "execution_count": 54,
      "outputs": [
        {
          "output_type": "execute_result",
          "data": {
            "text/plain": [
              "Matrix([\n",
              "[8,  6,  7,  9,  6],\n",
              "[0,  8,  9,  7,  6],\n",
              "[0,  7,  4,  0,  6],\n",
              "[0, 16, 12, 28, 16],\n",
              "[9,  8,  7,  3,  4]])"
            ],
            "text/latex": "$\\displaystyle \\left[\\begin{matrix}8 & 6 & 7 & 9 & 6\\\\0 & 8 & 9 & 7 & 6\\\\0 & 7 & 4 & 0 & 6\\\\0 & 16 & 12 & 28 & 16\\\\9 & 8 & 7 & 3 & 4\\end{matrix}\\right]$"
          },
          "metadata": {},
          "execution_count": 54
        }
      ]
    },
    {
      "cell_type": "code",
      "source": [
        "A[4:5,0:5]=8*A[4:5,0:5]-9*A[0:1,0:5]\n",
        "A"
      ],
      "metadata": {
        "colab": {
          "base_uri": "https://localhost:8080/",
          "height": 119
        },
        "id": "B7feq4RgSh1m",
        "outputId": "b5403efd-696f-4808-e0cd-12d8b1823af0"
      },
      "execution_count": 55,
      "outputs": [
        {
          "output_type": "execute_result",
          "data": {
            "text/plain": [
              "Matrix([\n",
              "[8,  6,  7,   9,   6],\n",
              "[0,  8,  9,   7,   6],\n",
              "[0,  7,  4,   0,   6],\n",
              "[0, 16, 12,  28,  16],\n",
              "[0, 10, -7, -57, -22]])"
            ],
            "text/latex": "$\\displaystyle \\left[\\begin{matrix}8 & 6 & 7 & 9 & 6\\\\0 & 8 & 9 & 7 & 6\\\\0 & 7 & 4 & 0 & 6\\\\0 & 16 & 12 & 28 & 16\\\\0 & 10 & -7 & -57 & -22\\end{matrix}\\right]$"
          },
          "metadata": {},
          "execution_count": 55
        }
      ]
    },
    {
      "cell_type": "code",
      "source": [
        "A[2:3,0:5]=8*A[2:3,0:5]-7*A[1:2,0:5]\n",
        "A"
      ],
      "metadata": {
        "colab": {
          "base_uri": "https://localhost:8080/",
          "height": 119
        },
        "id": "krA5AwWvTht4",
        "outputId": "b8249b7e-1141-4ea2-d56a-ca032b041740"
      },
      "execution_count": 56,
      "outputs": [
        {
          "output_type": "execute_result",
          "data": {
            "text/plain": [
              "Matrix([\n",
              "[8,  6,   7,   9,   6],\n",
              "[0,  8,   9,   7,   6],\n",
              "[0,  0, -31, -49,   6],\n",
              "[0, 16,  12,  28,  16],\n",
              "[0, 10,  -7, -57, -22]])"
            ],
            "text/latex": "$\\displaystyle \\left[\\begin{matrix}8 & 6 & 7 & 9 & 6\\\\0 & 8 & 9 & 7 & 6\\\\0 & 0 & -31 & -49 & 6\\\\0 & 16 & 12 & 28 & 16\\\\0 & 10 & -7 & -57 & -22\\end{matrix}\\right]$"
          },
          "metadata": {},
          "execution_count": 56
        }
      ]
    },
    {
      "cell_type": "code",
      "source": [
        "A[3:4,0:5]=8*A[3:4,0:5]-16*A[1:2,0:5]\n",
        "A"
      ],
      "metadata": {
        "colab": {
          "base_uri": "https://localhost:8080/",
          "height": 119
        },
        "id": "g756pL4vTy_2",
        "outputId": "c8ed4793-ccd8-4ff9-a3b1-bca435b02315"
      },
      "execution_count": 57,
      "outputs": [
        {
          "output_type": "execute_result",
          "data": {
            "text/plain": [
              "Matrix([\n",
              "[8,  6,   7,   9,   6],\n",
              "[0,  8,   9,   7,   6],\n",
              "[0,  0, -31, -49,   6],\n",
              "[0,  0, -48, 112,  32],\n",
              "[0, 10,  -7, -57, -22]])"
            ],
            "text/latex": "$\\displaystyle \\left[\\begin{matrix}8 & 6 & 7 & 9 & 6\\\\0 & 8 & 9 & 7 & 6\\\\0 & 0 & -31 & -49 & 6\\\\0 & 0 & -48 & 112 & 32\\\\0 & 10 & -7 & -57 & -22\\end{matrix}\\right]$"
          },
          "metadata": {},
          "execution_count": 57
        }
      ]
    },
    {
      "cell_type": "code",
      "source": [
        "A[4:5,0:5]=8*A[4:5,0:5]-10*A[1:2,0:5]\n",
        "A"
      ],
      "metadata": {
        "id": "J0o5IttsUOj6",
        "colab": {
          "base_uri": "https://localhost:8080/",
          "height": 119
        },
        "outputId": "8681845c-b89e-4671-f470-09473c1d5afb"
      },
      "execution_count": 58,
      "outputs": [
        {
          "output_type": "execute_result",
          "data": {
            "text/plain": [
              "Matrix([\n",
              "[8, 6,    7,    9,    6],\n",
              "[0, 8,    9,    7,    6],\n",
              "[0, 0,  -31,  -49,    6],\n",
              "[0, 0,  -48,  112,   32],\n",
              "[0, 0, -146, -526, -236]])"
            ],
            "text/latex": "$\\displaystyle \\left[\\begin{matrix}8 & 6 & 7 & 9 & 6\\\\0 & 8 & 9 & 7 & 6\\\\0 & 0 & -31 & -49 & 6\\\\0 & 0 & -48 & 112 & 32\\\\0 & 0 & -146 & -526 & -236\\end{matrix}\\right]$"
          },
          "metadata": {},
          "execution_count": 58
        }
      ]
    },
    {
      "cell_type": "code",
      "source": [
        "A[3:4,0:5]=31*A[3:4,0:5]-48*A[2:3,0:5]\n",
        "A"
      ],
      "metadata": {
        "colab": {
          "base_uri": "https://localhost:8080/",
          "height": 119
        },
        "id": "qbZs_2Km2rYI",
        "outputId": "aac39f83-302d-4769-e155-df2197825bf5"
      },
      "execution_count": 59,
      "outputs": [
        {
          "output_type": "execute_result",
          "data": {
            "text/plain": [
              "Matrix([\n",
              "[8, 6,    7,    9,    6],\n",
              "[0, 8,    9,    7,    6],\n",
              "[0, 0,  -31,  -49,    6],\n",
              "[0, 0,    0, 5824,  704],\n",
              "[0, 0, -146, -526, -236]])"
            ],
            "text/latex": "$\\displaystyle \\left[\\begin{matrix}8 & 6 & 7 & 9 & 6\\\\0 & 8 & 9 & 7 & 6\\\\0 & 0 & -31 & -49 & 6\\\\0 & 0 & 0 & 5824 & 704\\\\0 & 0 & -146 & -526 & -236\\end{matrix}\\right]$"
          },
          "metadata": {},
          "execution_count": 59
        }
      ]
    },
    {
      "cell_type": "code",
      "source": [
        "A[4:5,0:5]=31*A[4:5,0:5]-146*A[2:3,0:5]\n",
        "A"
      ],
      "metadata": {
        "colab": {
          "base_uri": "https://localhost:8080/",
          "height": 119
        },
        "id": "OOYcxsIr2uPS",
        "outputId": "e57620e0-585f-45e8-acda-fc7b5625bac7"
      },
      "execution_count": 60,
      "outputs": [
        {
          "output_type": "execute_result",
          "data": {
            "text/plain": [
              "Matrix([\n",
              "[8, 6,   7,     9,     6],\n",
              "[0, 8,   9,     7,     6],\n",
              "[0, 0, -31,   -49,     6],\n",
              "[0, 0,   0,  5824,   704],\n",
              "[0, 0,   0, -9152, -8192]])"
            ],
            "text/latex": "$\\displaystyle \\left[\\begin{matrix}8 & 6 & 7 & 9 & 6\\\\0 & 8 & 9 & 7 & 6\\\\0 & 0 & -31 & -49 & 6\\\\0 & 0 & 0 & 5824 & 704\\\\0 & 0 & 0 & -9152 & -8192\\end{matrix}\\right]$"
          },
          "metadata": {},
          "execution_count": 60
        }
      ]
    },
    {
      "cell_type": "code",
      "source": [
        "A[4:5,0:5]=5824*A[4:5,0:5]+9152*A[3:4,0:5]\n",
        "A"
      ],
      "metadata": {
        "colab": {
          "base_uri": "https://localhost:8080/",
          "height": 119
        },
        "id": "ufEMvayl3LAz",
        "outputId": "cd087c66-f19b-4e67-8188-2164611cdb65"
      },
      "execution_count": 61,
      "outputs": [
        {
          "output_type": "execute_result",
          "data": {
            "text/plain": [
              "Matrix([\n",
              "[8, 6,   7,    9,         6],\n",
              "[0, 8,   9,    7,         6],\n",
              "[0, 0, -31,  -49,         6],\n",
              "[0, 0,   0, 5824,       704],\n",
              "[0, 0,   0,    0, -41267200]])"
            ],
            "text/latex": "$\\displaystyle \\left[\\begin{matrix}8 & 6 & 7 & 9 & 6\\\\0 & 8 & 9 & 7 & 6\\\\0 & 0 & -31 & -49 & 6\\\\0 & 0 & 0 & 5824 & 704\\\\0 & 0 & 0 & 0 & -41267200\\end{matrix}\\right]$"
          },
          "metadata": {},
          "execution_count": 61
        }
      ]
    },
    {
      "cell_type": "code",
      "source": [],
      "metadata": {
        "id": "LsI6XBs73n1h"
      },
      "execution_count": 61,
      "outputs": []
    }
  ]
}