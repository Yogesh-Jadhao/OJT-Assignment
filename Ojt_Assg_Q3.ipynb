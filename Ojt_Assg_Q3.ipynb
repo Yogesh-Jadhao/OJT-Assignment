{
  "nbformat": 4,
  "nbformat_minor": 0,
  "metadata": {
    "colab": {
      "provenance": []
    },
    "kernelspec": {
      "name": "python3",
      "display_name": "Python 3"
    },
    "language_info": {
      "name": "python"
    }
  },
  "cells": [
    {
      "cell_type": "markdown",
      "source": [
        "**SVD** **Decomposition**"
      ],
      "metadata": {
        "id": "UotO6eTM1Rg4"
      }
    },
    {
      "cell_type": "code",
      "execution_count": 86,
      "metadata": {
        "colab": {
          "base_uri": "https://localhost:8080/"
        },
        "id": "VfnLNUgNxgQz",
        "outputId": "7b2195f6-4175-4421-b842-257500d244f9"
      },
      "outputs": [
        {
          "output_type": "stream",
          "name": "stdout",
          "text": [
            "[[8 6 7 9 6]\n",
            " [0 8 9 7 6]\n",
            " [0 7 4 0 6]\n",
            " [4 5 5 8 5]\n",
            " [9 8 7 3 4]]\n"
          ]
        }
      ],
      "source": [
        "import numpy as np\n",
        "import sympy as sp\n",
        "np.random.seed(14)\n",
        "A = np.random.randint(0,10,(5,5))\n",
        "print(A)"
      ]
    },
    {
      "cell_type": "code",
      "source": [
        "U,S,Vt=np.linalg.svd(A)\n",
        "sp.Matrix(np.round(U))"
      ],
      "metadata": {
        "colab": {
          "base_uri": "https://localhost:8080/",
          "height": 119
        },
        "id": "RLzUXk0gzmMq",
        "outputId": "e8c77f21-67be-45c4-9447-9107e0b97408"
      },
      "execution_count": 87,
      "outputs": [
        {
          "output_type": "execute_result",
          "data": {
            "text/plain": [
              "Matrix([\n",
              "[-1.0,    0,    0,    0, -1.0],\n",
              "[   0, -1.0,    0,  1.0,    0],\n",
              "[   0, -1.0,    0, -1.0,    0],\n",
              "[   0,    0,    0,    0,  1.0],\n",
              "[   0,    0, -1.0,    0,    0]])"
            ],
            "text/latex": "$\\displaystyle \\left[\\begin{matrix}-1.0 & 0 & 0 & 0 & -1.0\\\\0 & -1.0 & 0 & 1.0 & 0\\\\0 & -1.0 & 0 & -1.0 & 0\\\\0 & 0 & 0 & 0 & 1.0\\\\0 & 0 & -1.0 & 0 & 0\\end{matrix}\\right]$"
          },
          "metadata": {},
          "execution_count": 87
        }
      ]
    },
    {
      "cell_type": "code",
      "source": [
        "A=sp.Matrix(A)\n",
        "A"
      ],
      "metadata": {
        "colab": {
          "base_uri": "https://localhost:8080/",
          "height": 119
        },
        "id": "fwOQw9Udz8MC",
        "outputId": "6894f3f5-d446-469d-a23f-5bec4e215c89"
      },
      "execution_count": 88,
      "outputs": [
        {
          "output_type": "execute_result",
          "data": {
            "text/plain": [
              "Matrix([\n",
              "[8, 6, 7, 9, 6],\n",
              "[0, 8, 9, 7, 6],\n",
              "[0, 7, 4, 0, 6],\n",
              "[4, 5, 5, 8, 5],\n",
              "[9, 8, 7, 3, 4]])"
            ],
            "text/latex": "$\\displaystyle \\left[\\begin{matrix}8 & 6 & 7 & 9 & 6\\\\0 & 8 & 9 & 7 & 6\\\\0 & 7 & 4 & 0 & 6\\\\4 & 5 & 5 & 8 & 5\\\\9 & 8 & 7 & 3 & 4\\end{matrix}\\right]$"
          },
          "metadata": {},
          "execution_count": 88
        }
      ]
    },
    {
      "cell_type": "code",
      "source": [
        "sp.Matrix(U)\n",
        "U"
      ],
      "metadata": {
        "colab": {
          "base_uri": "https://localhost:8080/"
        },
        "id": "ciOjvfVs0szx",
        "outputId": "fc0a62be-de5c-4dac-a86c-85c6a69742b0"
      },
      "execution_count": 89,
      "outputs": [
        {
          "output_type": "execute_result",
          "data": {
            "text/plain": [
              "array([[-0.54336961,  0.41653236,  0.23614937, -0.27190268, -0.63368184],\n",
              "       [-0.48586941, -0.5754709 ,  0.30831618,  0.57365169, -0.09289258],\n",
              "       [-0.27492881, -0.59173735, -0.47722204, -0.58307844, -0.08086848],\n",
              "       [-0.41396641,  0.10507829,  0.41057165, -0.34823697,  0.72646562],\n",
              "       [-0.47087827,  0.36625059, -0.6729522 ,  0.36843346,  0.23564015]])"
            ]
          },
          "metadata": {},
          "execution_count": 89
        }
      ]
    },
    {
      "cell_type": "code",
      "source": [
        "Vt=sp.Matrix(Vt)\n",
        "Vt"
      ],
      "metadata": {
        "colab": {
          "base_uri": "https://localhost:8080/",
          "height": 119
        },
        "id": "hOgRZJKL017D",
        "outputId": "6f28769f-9f0c-42e3-df69-bff88f9a0fe4"
      },
      "execution_count": 90,
      "outputs": [
        {
          "output_type": "execute_result",
          "data": {
            "text/plain": [
              "Matrix([\n",
              "[ -0.351322612205806, -0.511458289524165, -0.502318179511639,  -0.446524674209967, -0.404073015782668],\n",
              "[   0.84902918068075, -0.336215882953428, -0.185650988583993,   0.199931217563942, -0.302769795527239],\n",
              "[ -0.376344527469379, -0.415512762827381, -0.020687663404851,   0.827075632176499, -0.035097860534476],\n",
              "[-0.0951972766612657, 0.0311444494184333,   0.66608097853071, -0.0423244091000082, -0.737910750850405],\n",
              "[-0.0708812222354457,  0.672122358893707, -0.518766139596947,   0.273491803568702, -0.446442955816292]])"
            ],
            "text/latex": "$\\displaystyle \\left[\\begin{matrix}-0.351322612205806 & -0.511458289524165 & -0.502318179511639 & -0.446524674209967 & -0.404073015782668\\\\0.84902918068075 & -0.336215882953428 & -0.185650988583993 & 0.199931217563942 & -0.302769795527239\\\\-0.376344527469379 & -0.415512762827381 & -0.020687663404851 & 0.827075632176499 & -0.035097860534476\\\\-0.0951972766612657 & 0.0311444494184333 & 0.66608097853071 & -0.0423244091000082 & -0.737910750850405\\\\-0.0708812222354457 & 0.672122358893707 & -0.518766139596947 & 0.273491803568702 & -0.446442955816292\\end{matrix}\\right]$"
          },
          "metadata": {},
          "execution_count": 90
        }
      ]
    },
    {
      "cell_type": "code",
      "source": [
        "Sigma=np.zeros((A.shape[0],A.shape[1]))"
      ],
      "metadata": {
        "id": "k7pcG5kH0DYu"
      },
      "execution_count": 91,
      "outputs": []
    },
    {
      "cell_type": "code",
      "source": [
        "Sigma[:A.shape[1],:A.shape[0]]=np.diag(S)\n",
        "Sigma=sp.Matrix(Sigma)\n",
        "Sigma"
      ],
      "metadata": {
        "colab": {
          "base_uri": "https://localhost:8080/",
          "height": 119
        },
        "id": "1-Cn3X3q0e4m",
        "outputId": "607be776-d5c1-4d97-ec7e-52351b47e293"
      },
      "execution_count": 92,
      "outputs": [
        {
          "output_type": "execute_result",
          "data": {
            "text/plain": [
              "Matrix([\n",
              "[29.1490687169048,                0,                0,                0,                 0],\n",
              "[               0, 8.30222035212742,                0,                0,                 0],\n",
              "[               0,                0, 6.70951230663089,                0,                 0],\n",
              "[               0,                0,                0, 2.64995126917397,                 0],\n",
              "[               0,                0,                0,                0, 0.604262393383368]])"
            ],
            "text/latex": "$\\displaystyle \\left[\\begin{matrix}29.1490687169048 & 0 & 0 & 0 & 0\\\\0 & 8.30222035212742 & 0 & 0 & 0\\\\0 & 0 & 6.70951230663089 & 0 & 0\\\\0 & 0 & 0 & 2.64995126917397 & 0\\\\0 & 0 & 0 & 0 & 0.604262393383368\\end{matrix}\\right]$"
          },
          "metadata": {},
          "execution_count": 92
        }
      ]
    },
    {
      "cell_type": "code",
      "source": [
        "B=U@Sigma@Vt\n",
        "B"
      ],
      "metadata": {
        "id": "-bhgrTDuEfNG",
        "colab": {
          "base_uri": "https://localhost:8080/",
          "height": 119
        },
        "outputId": "6a5a471a-ea08-4776-d416-06069df2ae03"
      },
      "execution_count": 93,
      "outputs": [
        {
          "output_type": "execute_result",
          "data": {
            "text/plain": [
              "Matrix([\n",
              "[                 8.0,              6.0,              7.0,      9.00000000000001, 6.0],\n",
              "[7.99707522425308e-15, 8.00000000000001, 9.00000000000001,      6.99999999999999, 6.0],\n",
              "[5.81219100626029e-15, 7.00000000000001,              4.0, -7.54431239702313e-15, 6.0],\n",
              "[                 4.0,              5.0,              5.0,                   8.0, 5.0],\n",
              "[                 9.0,              8.0,              7.0,      3.00000000000001, 4.0]])"
            ],
            "text/latex": "$\\displaystyle \\left[\\begin{matrix}8.0 & 6.0 & 7.0 & 9.00000000000001 & 6.0\\\\7.99707522425308 \\cdot 10^{-15} & 8.00000000000001 & 9.00000000000001 & 6.99999999999999 & 6.0\\\\5.81219100626029 \\cdot 10^{-15} & 7.00000000000001 & 4.0 & -7.54431239702313 \\cdot 10^{-15} & 6.0\\\\4.0 & 5.0 & 5.0 & 8.0 & 5.0\\\\9.0 & 8.0 & 7.0 & 3.00000000000001 & 4.0\\end{matrix}\\right]$"
          },
          "metadata": {},
          "execution_count": 93
        }
      ]
    },
    {
      "cell_type": "code",
      "source": [
        "A"
      ],
      "metadata": {
        "colab": {
          "base_uri": "https://localhost:8080/",
          "height": 119
        },
        "id": "zyy0X35j79Y0",
        "outputId": "f5a7378b-2a4e-43ff-b6e0-1ffb68e41946"
      },
      "execution_count": 94,
      "outputs": [
        {
          "output_type": "execute_result",
          "data": {
            "text/plain": [
              "Matrix([\n",
              "[8, 6, 7, 9, 6],\n",
              "[0, 8, 9, 7, 6],\n",
              "[0, 7, 4, 0, 6],\n",
              "[4, 5, 5, 8, 5],\n",
              "[9, 8, 7, 3, 4]])"
            ],
            "text/latex": "$\\displaystyle \\left[\\begin{matrix}8 & 6 & 7 & 9 & 6\\\\0 & 8 & 9 & 7 & 6\\\\0 & 7 & 4 & 0 & 6\\\\4 & 5 & 5 & 8 & 5\\\\9 & 8 & 7 & 3 & 4\\end{matrix}\\right]$"
          },
          "metadata": {},
          "execution_count": 94
        }
      ]
    },
    {
      "cell_type": "code",
      "source": [
        "U1=U[:,:2]\n",
        "U1=sp.Matrix(U1)\n",
        "U1"
      ],
      "metadata": {
        "colab": {
          "base_uri": "https://localhost:8080/",
          "height": 119
        },
        "id": "JqANqx5C0q0h",
        "outputId": "8e46e9c9-07da-41a2-dece-22e6f8612630"
      },
      "execution_count": 95,
      "outputs": [
        {
          "output_type": "execute_result",
          "data": {
            "text/plain": [
              "Matrix([\n",
              "[-0.543369608401009,  0.416532357113768],\n",
              "[-0.485869407476142, -0.575470899164334],\n",
              "[-0.274928812211558, -0.591737354563774],\n",
              "[-0.413966407770596,  0.105078291217324],\n",
              "[-0.470878274077674,  0.366250591290929]])"
            ],
            "text/latex": "$\\displaystyle \\left[\\begin{matrix}-0.543369608401009 & 0.416532357113768\\\\-0.485869407476142 & -0.575470899164334\\\\-0.274928812211558 & -0.591737354563774\\\\-0.413966407770596 & 0.105078291217324\\\\-0.470878274077674 & 0.366250591290929\\end{matrix}\\right]$"
          },
          "metadata": {},
          "execution_count": 95
        }
      ]
    },
    {
      "cell_type": "code",
      "source": [
        "\n",
        "Vt1=Vt[:2,:]\n",
        "Vt1=sp.Matrix(Vt1)\n",
        "Vt1"
      ],
      "metadata": {
        "colab": {
          "base_uri": "https://localhost:8080/",
          "height": 58
        },
        "id": "KDtEYrUI1jDc",
        "outputId": "c1f76758-63b0-49b5-9468-9e8a8bb80c8a"
      },
      "execution_count": 96,
      "outputs": [
        {
          "output_type": "execute_result",
          "data": {
            "text/plain": [
              "Matrix([\n",
              "[-0.351322612205806, -0.511458289524165, -0.502318179511639, -0.446524674209967, -0.404073015782668],\n",
              "[  0.84902918068075, -0.336215882953428, -0.185650988583993,  0.199931217563942, -0.302769795527239]])"
            ],
            "text/latex": "$\\displaystyle \\left[\\begin{matrix}-0.351322612205806 & -0.511458289524165 & -0.502318179511639 & -0.446524674209967 & -0.404073015782668\\\\0.84902918068075 & -0.336215882953428 & -0.185650988583993 & 0.199931217563942 & -0.302769795527239\\end{matrix}\\right]$"
          },
          "metadata": {},
          "execution_count": 96
        }
      ]
    },
    {
      "cell_type": "code",
      "source": [
        "\n",
        "Sig1=Sigma[:2,:2]\n",
        "Sig1=sp.Matrix(Sig1)\n",
        "Sig1"
      ],
      "metadata": {
        "colab": {
          "base_uri": "https://localhost:8080/",
          "height": 58
        },
        "id": "aVzZmTPq1vZ8",
        "outputId": "adcd396b-fcb5-46fc-f8f1-ff0714f92bef"
      },
      "execution_count": 97,
      "outputs": [
        {
          "output_type": "execute_result",
          "data": {
            "text/plain": [
              "Matrix([\n",
              "[29.1490687169048,                0],\n",
              "[               0, 8.30222035212742]])"
            ],
            "text/latex": "$\\displaystyle \\left[\\begin{matrix}29.1490687169048 & 0\\\\0 & 8.30222035212742\\end{matrix}\\right]$"
          },
          "metadata": {},
          "execution_count": 97
        }
      ]
    },
    {
      "cell_type": "code",
      "source": [
        "A2=U1@Sig1@Vt1\n",
        "print('Rank 2 Aproximation of A')\n",
        "A2"
      ],
      "metadata": {
        "colab": {
          "base_uri": "https://localhost:8080/",
          "height": 136
        },
        "id": "qWjnJNzg1z0R",
        "outputId": "493e6f31-f6bf-4a79-8749-c6aae18c169e"
      },
      "execution_count": 98,
      "outputs": [
        {
          "output_type": "stream",
          "name": "stdout",
          "text": [
            "Rank 2 Aproximation of A\n"
          ]
        },
        {
          "output_type": "execute_result",
          "data": {
            "text/plain": [
              "Matrix([\n",
              "[ 8.50056446894146, 6.93816090330327, 7.31406827545758, 7.76376924192916, 5.35297719627296],\n",
              "[ 0.91926093324513, 8.84993399901505,  8.0011340848246,  5.3687599237208, 7.16928003489592],\n",
              "[-1.35558354429156, 5.75052439064276, 4.93759102886981, 2.59620362708467, 4.72563579453602],\n",
              "[ 4.97999568698638, 5.87832271596941, 5.89938170164433, 5.56251165463994, 4.61171084856514],\n",
              "[ 7.40377302100206,  5.9977748869126,  6.3301424529265, 6.73677675089927, 4.62554007798512]])"
            ],
            "text/latex": "$\\displaystyle \\left[\\begin{matrix}8.50056446894146 & 6.93816090330327 & 7.31406827545758 & 7.76376924192916 & 5.35297719627296\\\\0.91926093324513 & 8.84993399901505 & 8.0011340848246 & 5.3687599237208 & 7.16928003489592\\\\-1.35558354429156 & 5.75052439064276 & 4.93759102886981 & 2.59620362708467 & 4.72563579453602\\\\4.97999568698638 & 5.87832271596941 & 5.89938170164433 & 5.56251165463994 & 4.61171084856514\\\\7.40377302100206 & 5.9977748869126 & 6.3301424529265 & 6.73677675089927 & 4.62554007798512\\end{matrix}\\right]$"
          },
          "metadata": {},
          "execution_count": 98
        }
      ]
    },
    {
      "cell_type": "code",
      "source": [
        "U2=U[:,:3]\n",
        "U2=sp.Matrix(U1)\n",
        "U2"
      ],
      "metadata": {
        "colab": {
          "base_uri": "https://localhost:8080/",
          "height": 119
        },
        "id": "-FrRf4X52HAF",
        "outputId": "0c14969c-440b-4555-ec8c-1852ea8df57b"
      },
      "execution_count": 99,
      "outputs": [
        {
          "output_type": "execute_result",
          "data": {
            "text/plain": [
              "Matrix([\n",
              "[-0.543369608401009,  0.416532357113768],\n",
              "[-0.485869407476142, -0.575470899164334],\n",
              "[-0.274928812211558, -0.591737354563774],\n",
              "[-0.413966407770596,  0.105078291217324],\n",
              "[-0.470878274077674,  0.366250591290929]])"
            ],
            "text/latex": "$\\displaystyle \\left[\\begin{matrix}-0.543369608401009 & 0.416532357113768\\\\-0.485869407476142 & -0.575470899164334\\\\-0.274928812211558 & -0.591737354563774\\\\-0.413966407770596 & 0.105078291217324\\\\-0.470878274077674 & 0.366250591290929\\end{matrix}\\right]$"
          },
          "metadata": {},
          "execution_count": 99
        }
      ]
    },
    {
      "cell_type": "code",
      "source": [
        "Vt2=Vt[:3,:]\n",
        "Vt2=sp.Matrix(Vt2)\n",
        "Vt2"
      ],
      "metadata": {
        "colab": {
          "base_uri": "https://localhost:8080/",
          "height": 78
        },
        "id": "MfhNfEEB2fdg",
        "outputId": "c2bcf706-9aab-4e32-a98d-01c138875449"
      },
      "execution_count": 100,
      "outputs": [
        {
          "output_type": "execute_result",
          "data": {
            "text/plain": [
              "Matrix([\n",
              "[-0.351322612205806, -0.511458289524165, -0.502318179511639, -0.446524674209967, -0.404073015782668],\n",
              "[  0.84902918068075, -0.336215882953428, -0.185650988583993,  0.199931217563942, -0.302769795527239],\n",
              "[-0.376344527469379, -0.415512762827381, -0.020687663404851,  0.827075632176499, -0.035097860534476]])"
            ],
            "text/latex": "$\\displaystyle \\left[\\begin{matrix}-0.351322612205806 & -0.511458289524165 & -0.502318179511639 & -0.446524674209967 & -0.404073015782668\\\\0.84902918068075 & -0.336215882953428 & -0.185650988583993 & 0.199931217563942 & -0.302769795527239\\\\-0.376344527469379 & -0.415512762827381 & -0.020687663404851 & 0.827075632176499 & -0.035097860534476\\end{matrix}\\right]$"
          },
          "metadata": {},
          "execution_count": 100
        }
      ]
    },
    {
      "cell_type": "code",
      "source": [
        "Sig2=Sigma[:3,:3]\n",
        "Sig2=sp.Matrix(Sig2)\n",
        "Sig2"
      ],
      "metadata": {
        "colab": {
          "base_uri": "https://localhost:8080/",
          "height": 78
        },
        "id": "qgY_0F6F2fZ8",
        "outputId": "b4a383c6-8f53-4d23-88a6-615b298ff821"
      },
      "execution_count": 101,
      "outputs": [
        {
          "output_type": "execute_result",
          "data": {
            "text/plain": [
              "Matrix([\n",
              "[29.1490687169048,                0,                0],\n",
              "[               0, 8.30222035212742,                0],\n",
              "[               0,                0, 6.70951230663089]])"
            ],
            "text/latex": "$\\displaystyle \\left[\\begin{matrix}29.1490687169048 & 0 & 0\\\\0 & 8.30222035212742 & 0\\\\0 & 0 & 6.70951230663089\\end{matrix}\\right]$"
          },
          "metadata": {},
          "execution_count": 101
        }
      ]
    },
    {
      "cell_type": "code",
      "source": [
        "A3=U1@Sig1@Vt1\n",
        "print('Rank 3 Aproximation of A')\n",
        "A3"
      ],
      "metadata": {
        "colab": {
          "base_uri": "https://localhost:8080/",
          "height": 136
        },
        "id": "8liBKqeu2fWH",
        "outputId": "783d27d8-fe9c-4144-a7e9-3e45fda72f38"
      },
      "execution_count": 102,
      "outputs": [
        {
          "output_type": "stream",
          "name": "stdout",
          "text": [
            "Rank 3 Aproximation of A\n"
          ]
        },
        {
          "output_type": "execute_result",
          "data": {
            "text/plain": [
              "Matrix([\n",
              "[ 8.50056446894146, 6.93816090330327, 7.31406827545758, 7.76376924192916, 5.35297719627296],\n",
              "[ 0.91926093324513, 8.84993399901505,  8.0011340848246,  5.3687599237208, 7.16928003489592],\n",
              "[-1.35558354429156, 5.75052439064276, 4.93759102886981, 2.59620362708467, 4.72563579453602],\n",
              "[ 4.97999568698638, 5.87832271596941, 5.89938170164433, 5.56251165463994, 4.61171084856514],\n",
              "[ 7.40377302100206,  5.9977748869126,  6.3301424529265, 6.73677675089927, 4.62554007798512]])"
            ],
            "text/latex": "$\\displaystyle \\left[\\begin{matrix}8.50056446894146 & 6.93816090330327 & 7.31406827545758 & 7.76376924192916 & 5.35297719627296\\\\0.91926093324513 & 8.84993399901505 & 8.0011340848246 & 5.3687599237208 & 7.16928003489592\\\\-1.35558354429156 & 5.75052439064276 & 4.93759102886981 & 2.59620362708467 & 4.72563579453602\\\\4.97999568698638 & 5.87832271596941 & 5.89938170164433 & 5.56251165463994 & 4.61171084856514\\\\7.40377302100206 & 5.9977748869126 & 6.3301424529265 & 6.73677675089927 & 4.62554007798512\\end{matrix}\\right]$"
          },
          "metadata": {},
          "execution_count": 102
        }
      ]
    },
    {
      "cell_type": "code",
      "source": [
        "\n"
      ],
      "metadata": {
        "id": "O4VF_lCp26gd"
      },
      "execution_count": 102,
      "outputs": []
    }
  ]
}